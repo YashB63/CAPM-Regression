{
 "cells": [
  {
   "attachments": {},
   "cell_type": "markdown",
   "metadata": {},
   "source": [
    "Beta is defined as:\n",
    "\n",
    "βi = (σi, M))/σ²M"
   ]
  },
  {
   "attachments": {},
   "cell_type": "markdown",
   "metadata": {},
   "source": [
    "β = 1: Asset moves in the same direction and in the same amount as the benchmark \n",
    "\n",
    "0 > β > 1: Asset moves i t the same direction, but in a lesser amount than the benchmark"
   ]
  },
  {
   "cell_type": "code",
   "execution_count": null,
   "metadata": {},
   "outputs": [],
   "source": [
    "import pandas_datareader.data as reader\n",
    "import datetime as dt\n",
    "import matplotlib.pyplot as plt\n",
    "import statsmodels.api as sm"
   ]
  }
 ],
 "metadata": {
  "language_info": {
   "name": "python"
  },
  "orig_nbformat": 4
 },
 "nbformat": 4,
 "nbformat_minor": 2
}
